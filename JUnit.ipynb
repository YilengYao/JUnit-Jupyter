{
 "cells": [
  {
   "cell_type": "markdown",
   "metadata": {},
   "source": [
    "# Importing JUnit Dependencies"
   ]
  },
  {
   "cell_type": "code",
   "execution_count": 1,
   "metadata": {},
   "outputs": [],
   "source": [
    "%%loadFromPOM\n",
    "    <properties>\n",
    "        <junit-platform.version>5.3.1</junit-platform.version>\n",
    "    </properties>\n",
    "    <dependencies>\n",
    "        <dependency>\n",
    "            <groupId>org.junit.jupiter</groupId>\n",
    "            <artifactId>junit-jupiter-api</artifactId>\n",
    "            <version>5.3.1</version>\n",
    "        <!--    <scope>test</scope> -->\n",
    "        </dependency>\n",
    "        <dependency>\n",
    "            <groupId>org.junit.jupiter</groupId>\n",
    "            <artifactId>junit-jupiter-engine</artifactId>\n",
    "            <version>${junit-platform.version}</version>\n",
    "        <!--    <scope>test</scope> -->\n",
    "        </dependency>\n",
    "    </dependencies>\n",
    "    <build>\n",
    "        <plugins>\n",
    "            <plugin>\n",
    "                <groupId>org.apache.maven.plugins</groupId>\n",
    "                <artifactId>maven-compiler-plugin</artifactId>\n",
    "                <version>3.8.0</version>\n",
    "            </plugin>\n",
    "            <plugin>\n",
    "                <groupId>org.apache.maven.plugins</groupId>\n",
    "                <artifactId>maven-surefire-plugin</artifactId>\n",
    "                <version>2.22.0</version>\n",
    "                <configuration>\n",
    "                    <argLine>\n",
    "                        --illegal-access=permit\n",
    "                    </argLine>\n",
    "                </configuration>\n",
    "            </plugin>\n",
    "            <plugin>\n",
    "                <groupId>org.apache.maven.plugins</groupId>\n",
    "                <artifactId>maven-failsafe-plugin</artifactId>\n",
    "                <version>2.22.0</version>\n",
    "                <configuration>\n",
    "                    <argLine>\n",
    "                        --illegal-access=permit\n",
    "                    </argLine>\n",
    "                </configuration>\n",
    "            </plugin>\n",
    "        </plugins>\n",
    "    </build>"
   ]
  },
  {
   "cell_type": "markdown",
   "metadata": {},
   "source": [
    "## Running Basic JUnit Tests"
   ]
  },
  {
   "cell_type": "code",
   "execution_count": 2,
   "metadata": {},
   "outputs": [],
   "source": [
    "public class Greeting {\n",
    "\n",
    "    private static final String HELLO = \"Hello\";\n",
    "    private static final String WORLD = \"World\";\n",
    "\n",
    "    public String helloWorld(){\n",
    "        return HELLO + \" \" + WORLD;\n",
    "    }\n",
    "\n",
    "    public String helloWorld(String name){\n",
    "        return HELLO + \" \" + name;\n",
    "    }\n",
    "}"
   ]
  },
  {
   "cell_type": "code",
   "execution_count": 3,
   "metadata": {},
   "outputs": [],
   "source": [
    "import org.junit.jupiter.api.BeforeEach;\n",
    "import org.junit.jupiter.api.Test;\n",
    "import static org.junit.jupiter.api.Assertions.assertEquals;\n",
    "\n",
    "class GreetingTest {\n",
    "\n",
    "    private Greeting greeting;\n",
    "\n",
    "    @BeforeEach\n",
    "    void setUp() {\n",
    "        System.out.println(\"In Before Each....\");\n",
    "        greeting = new Greeting();\n",
    "    }\n",
    "\n",
    "    @Test\n",
    "    void helloWorld() {\n",
    "        assertEquals(1, 2);\n",
    "    }\n",
    "\n",
    "    @Test\n",
    "    void helloWorld1() {\n",
    "        assertEquals(1,1);\n",
    "    }\n",
    "}"
   ]
  },
  {
   "cell_type": "code",
   "execution_count": 4,
   "metadata": {},
   "outputs": [
    {
     "name": "stdout",
     "output_type": "stream",
     "text": [
      "In Before Each....\n"
     ]
    }
   ],
   "source": [
    "GreetingTest gt = new GreetingTest();\n",
    "gt.setUp();"
   ]
  },
  {
   "cell_type": "code",
   "execution_count": 5,
   "metadata": {},
   "outputs": [
    {
     "ename": "EvalException",
     "evalue": "expected: <1> but was: <2>",
     "output_type": "error",
     "traceback": [
      "\u001b[1m\u001b[31m---------------------------------------------------------------------------\u001b[0m",
      "\u001b[1m\u001b[31morg.opentest4j.AssertionFailedError: expected: <1> but was: <2>\u001b[0m",
      "\u001b[1m\u001b[31m\tat org.junit.jupiter.api.AssertionUtils.fail(AssertionUtils.java:54)\u001b[0m",
      "\u001b[1m\u001b[31m\tat org.junit.jupiter.api.AssertEquals.failNotEqual(AssertEquals.java:195)\u001b[0m",
      "\u001b[1m\u001b[31m\tat org.junit.jupiter.api.AssertEquals.assertEquals(AssertEquals.java:152)\u001b[0m",
      "\u001b[1m\u001b[31m\tat org.junit.jupiter.api.AssertEquals.assertEquals(AssertEquals.java:147)\u001b[0m",
      "\u001b[1m\u001b[31m\tat org.junit.jupiter.api.Assertions.assertEquals(Assertions.java:327)\u001b[0m",
      "\u001b[1m\u001b[31m\tat GreetingTest.helloWorld(#19:1)\u001b[0m",
      "\u001b[1m\u001b[31m\tat .(#22:1)\u001b[0m"
     ]
    }
   ],
   "source": [
    "gt.helloWorld();"
   ]
  },
  {
   "cell_type": "markdown",
   "metadata": {},
   "source": [
    "## JUnit Asssertions"
   ]
  },
  {
   "cell_type": "code",
   "execution_count": 6,
   "metadata": {},
   "outputs": [],
   "source": [
    "import org.junit.jupiter.api.Test;\n",
    "import static org.junit.jupiter.api.Assertions.assertEquals;\n",
    "import static org.junit.jupiter.api.Assertions.assertNotEquals;\n",
    "\n",
    "class Assertion {\n",
    "    @Test\n",
    "    void equals() {\n",
    "        assertEquals(2, 2);\n",
    "    }\n",
    "\n",
    "    @Test\n",
    "    void notEquals() {\n",
    "        assertNotEquals(2,1);\n",
    "    }\n",
    "}"
   ]
  },
  {
   "cell_type": "code",
   "execution_count": 7,
   "metadata": {},
   "outputs": [],
   "source": [
    "Assertion assertion = new Assertion();\n",
    "assertion.equals();\n",
    "assertion.notEquals();"
   ]
  },
  {
   "cell_type": "markdown",
   "metadata": {},
   "source": [
    "Overloading Assertions"
   ]
  },
  {
   "cell_type": "code",
   "execution_count": 8,
   "metadata": {},
   "outputs": [],
   "source": [
    "import org.junit.jupiter.api.Test;\n",
    "import static org.junit.jupiter.api.Assertions.assertEquals;\n",
    "\n",
    "class OverloadedAssertion {\n",
    "    @Test\n",
    "    void overloadedEquals() {\n",
    "        assertEquals(2, 4, \"Values do not match\");\n",
    "    }\n",
    "}"
   ]
  },
  {
   "cell_type": "code",
   "execution_count": 9,
   "metadata": {},
   "outputs": [
    {
     "ename": "EvalException",
     "evalue": "Values do not match ==> expected: <2> but was: <4>",
     "output_type": "error",
     "traceback": [
      "\u001b[1m\u001b[31m---------------------------------------------------------------------------\u001b[0m",
      "\u001b[1m\u001b[31morg.opentest4j.AssertionFailedError: Values do not match ==> expected: <2> but was: <4>\u001b[0m",
      "\u001b[1m\u001b[31m\tat org.junit.jupiter.api.AssertionUtils.fail(AssertionUtils.java:54)\u001b[0m",
      "\u001b[1m\u001b[31m\tat org.junit.jupiter.api.AssertEquals.failNotEqual(AssertEquals.java:195)\u001b[0m",
      "\u001b[1m\u001b[31m\tat org.junit.jupiter.api.AssertEquals.assertEquals(AssertEquals.java:152)\u001b[0m",
      "\u001b[1m\u001b[31m\tat org.junit.jupiter.api.Assertions.assertEquals(Assertions.java:334)\u001b[0m",
      "\u001b[1m\u001b[31m\tat OverloadedAssertion.overloadedEquals(#26:1)\u001b[0m",
      "\u001b[1m\u001b[31m\tat .(#28:1)\u001b[0m"
     ]
    }
   ],
   "source": [
    "OverloadedAssertion overloadedAssertion = new OverloadedAssertion();\n",
    "overloadedAssertion.overloadedEquals();"
   ]
  },
  {
   "cell_type": "markdown",
   "metadata": {},
   "source": [
    "## Grouped Assertions"
   ]
  },
  {
   "cell_type": "code",
   "execution_count": 10,
   "metadata": {},
   "outputs": [],
   "source": [
    "public class Person {\n",
    "    private Long id;\n",
    "    private String firstName;\n",
    "    private String lastName;\n",
    "    \n",
    "    public Person(Long id, String firstName, String lastName) {\n",
    "        this.id = id;\n",
    "        this.firstName = firstName;\n",
    "        this.lastName = lastName;\n",
    "    }\n",
    "\n",
    "    public String getFirstName() {\n",
    "        return firstName;\n",
    "    }\n",
    "\n",
    "    public void setFirstName(String firstName) {\n",
    "        this.firstName = firstName;\n",
    "    }\n",
    "\n",
    "    public String getLastName() {\n",
    "        return lastName;\n",
    "    }\n",
    "\n",
    "    public void setLastName(String lastName) {\n",
    "        this.lastName = lastName;\n",
    "    }\n",
    "}"
   ]
  },
  {
   "cell_type": "code",
   "execution_count": 11,
   "metadata": {},
   "outputs": [],
   "source": [
    "import org.junit.jupiter.api.Test;\n",
    "\n",
    "import static org.junit.jupiter.api.Assertions.*;\n",
    "\n",
    "class PersonTest {\n",
    "    @Test\n",
    "    void groupedAssertions() {\n",
    "        //given\n",
    "        Person person = new Person(1l, \"Joe\", \"Buck\");\n",
    "        //then\n",
    "        assertAll( \"Test Props Set\",\n",
    "                   () -> assertEquals(\"Joe\", person.getFirstName()),\n",
    "                   () -> assertEquals(\"Buck\", person.getLastName()));\n",
    "    }\n",
    "}"
   ]
  },
  {
   "cell_type": "code",
   "execution_count": 12,
   "metadata": {},
   "outputs": [],
   "source": [
    "PersonTest personTest = new PersonTest();\n",
    "personTest.groupedAssertions();"
   ]
  },
  {
   "cell_type": "markdown",
   "metadata": {},
   "source": [
    "### Dependent Assertions"
   ]
  },
  {
   "cell_type": "code",
   "execution_count": 13,
   "metadata": {},
   "outputs": [],
   "source": [
    "public class Owner extends Person {\n",
    "\n",
    "    private String address;\n",
    "    private String city;\n",
    "    private String telephone;\n",
    "\n",
    "    public Owner(Long id, String firstName, String lastName) {\n",
    "        super(id, firstName, lastName);\n",
    "    }\n",
    "\n",
    "\n",
    "    public String getAddress() { return address; }\n",
    "\n",
    "    public void setAddress(String address) { this.address = address; }\n",
    "\n",
    "    public String getCity() {\n",
    "        return city;\n",
    "    }\n",
    "\n",
    "    public void setCity(String city) {\n",
    "        this.city = city;\n",
    "    }\n",
    "\n",
    "    public String getTelephone() {\n",
    "        return telephone;\n",
    "    }\n",
    "\n",
    "    public void setTelephone(String telephone) {\n",
    "        this.telephone = telephone;\n",
    "    }\n",
    "\n",
    "}"
   ]
  },
  {
   "cell_type": "code",
   "execution_count": 14,
   "metadata": {},
   "outputs": [],
   "source": [
    "import org.junit.jupiter.api.Test;\n",
    "import static org.junit.jupiter.api.Assertions.*;\n",
    "\n",
    "class OwnerTest {\n",
    "    @Test\n",
    "    void dependentAssertions() {\n",
    "        Owner owner = new Owner(1l, \"Joe\", \"Buck\");\n",
    "        owner.setCity(\"Key West\");\n",
    "        owner.setTelephone(\"1231231234\");\n",
    "\n",
    "        assertAll(\"Properties Test\",\n",
    "                  () -> assertAll(\"Person Properties\",\n",
    "                                  () -> assertEquals(\"Joe\", owner.getFirstName(), \"First Name Did Mot Match\"),\n",
    "                                  () -> assertEquals(\"Buck\", owner.getLastName())),\n",
    "                  () -> assertAll(\"Owner Prioerties\",\n",
    "                                  () -> assertEquals(\"Key West\", owner.getCity(), \"City Did Not Match\"),\n",
    "                                  () -> assertEquals(\"1231231234\", owner.getTelephone())\n",
    "                  ));\n",
    "    }\n",
    "}"
   ]
  },
  {
   "cell_type": "code",
   "execution_count": 15,
   "metadata": {},
   "outputs": [],
   "source": [
    "OwnerTest ownerTest = new OwnerTest();\n",
    "ownerTest.dependentAssertions();"
   ]
  },
  {
   "cell_type": "markdown",
   "metadata": {},
   "source": [
    "## Testing Expected Exceptions"
   ]
  },
  {
   "cell_type": "code",
   "execution_count": 16,
   "metadata": {},
   "outputs": [],
   "source": [
    "public class DummyException extends RuntimeException {}"
   ]
  },
  {
   "cell_type": "code",
   "execution_count": 17,
   "metadata": {},
   "outputs": [],
   "source": [
    "public class Dummy {\n",
    "    public String dummyHandler() {\n",
    "        throw new DummyException();\n",
    "    }\n",
    "}"
   ]
  },
  {
   "cell_type": "code",
   "execution_count": 18,
   "metadata": {},
   "outputs": [],
   "source": [
    "import org.junit.jupiter.api.BeforeEach;\n",
    "import org.junit.jupiter.api.Test;\n",
    "import static org.junit.jupiter.api.Assertions.assertEquals;\n",
    "\n",
    "\n",
    "import static org.junit.jupiter.api.Assertions.assertThrows;\n",
    "\n",
    "public class DummyTest {\n",
    "    Dummy dummy;\n",
    "    @BeforeEach\n",
    "    void setUp() {\n",
    "        dummy = new Dummy();\n",
    "    }\n",
    "\n",
    "    @Test\n",
    "    void catchException() {\n",
    "        assertThrows(DummyException.class, () -> {\n",
    "             dummy.dummyHandler();\n",
    "         });\n",
    "    }\n",
    "}"
   ]
  },
  {
   "cell_type": "code",
   "execution_count": 19,
   "metadata": {},
   "outputs": [],
   "source": [
    "DummyTest dummyTest = new DummyTest();\n",
    "dummyTest.setUp();\n",
    "dummyTest.catchException();"
   ]
  }
 ],
 "metadata": {
  "kernelspec": {
   "display_name": "Java",
   "language": "java",
   "name": "java"
  },
  "language_info": {
   "codemirror_mode": "java",
   "file_extension": ".jshell",
   "mimetype": "text/x-java-source",
   "name": "Java",
   "pygments_lexer": "java",
   "version": "11.0.9+11-LTS"
  }
 },
 "nbformat": 4,
 "nbformat_minor": 4
}
